{
 "cells": [
  {
   "cell_type": "markdown",
   "metadata": {},
   "source": [
    "# Estructuras de control"
   ]
  },
  {
   "cell_type": "markdown",
   "metadata": {},
   "source": [
    "# Ejercicio 1\n",
    "Uso de ciclos while en Python."
   ]
  },
  {
   "cell_type": "code",
   "execution_count": null,
   "metadata": {},
   "outputs": [],
   "source": [
    "nuevo_planeta = \"\"\n",
    "planetas = []\n",
    "\n",
    "while nuevo_planeta != \"done\":\n",
    "    planetas.append(nuevo_planeta)\n",
    "    nuevo_planeta.lower\n",
    "    nuevo_planeta = input(\"Inserta un planeta (Escribe 'done' para parar): \")\n",
    "\n"
   ]
  },
  {
   "cell_type": "markdown",
   "metadata": {},
   "source": [
    "# Ejercicio 2\n",
    "Creación de un ciclo \"for\".\n"
   ]
  },
  {
   "cell_type": "code",
   "execution_count": null,
   "metadata": {},
   "outputs": [],
   "source": [
    "for planeta in planetas:\n",
    "    print([planeta])"
   ]
  }
 ],
 "metadata": {
  "interpreter": {
   "hash": "be51f2315204313240d150106198b8abe2ba4c8cd8b4a47b5280a8fa4c0b1954"
  },
  "kernelspec": {
   "display_name": "Python 3.10.2 64-bit",
   "language": "python",
   "name": "python3"
  },
  "language_info": {
   "codemirror_mode": {
    "name": "ipython",
    "version": 3
   },
   "file_extension": ".py",
   "mimetype": "text/x-python",
   "name": "python",
   "nbconvert_exporter": "python",
   "pygments_lexer": "ipython3",
   "version": "3.10.2"
  },
  "orig_nbformat": 4
 },
 "nbformat": 4,
 "nbformat_minor": 2
}
