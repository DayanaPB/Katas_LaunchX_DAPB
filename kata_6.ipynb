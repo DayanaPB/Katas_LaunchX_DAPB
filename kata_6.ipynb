{
 "cells": [
  {
   "cell_type": "markdown",
   "metadata": {},
   "source": [
    "# Listas de python"
   ]
  },
  {
   "cell_type": "markdown",
   "metadata": {},
   "source": [
    "## Ejercicio 1\n",
    "Usar listas para almacenar nombres de planetas."
   ]
  },
  {
   "cell_type": "code",
   "execution_count": 1,
   "metadata": {},
   "outputs": [
    {
     "name": "stdout",
     "output_type": "stream",
     "text": [
      "Los planetas que hay: ['Mercurio', 'Venus', 'Tierra', 'Marte', 'Júpiter', 'Saturno', 'Urano', 'Neptuno', 'Plutón'] ,Plutón<-- Planeta faltante\n",
      "y hay un total de: 9 planetas.\n"
     ]
    }
   ],
   "source": [
    "planets = [\"Mercurio\",\"Venus\",\"Tierra\",\"Marte\",\"Júpiter\",\"Saturno\",\"Urano\",\"Neptuno\"]\n",
    "planets.append(\"Plutón\")\n",
    "\n",
    "print(f\"\"\"Los planetas que hay: {planets} ,{planets[-1]}<-- Planeta faltante\n",
    "y hay un total de: {len(planets)} planetas.\"\"\")\n",
    "\n",
    " "
   ]
  },
  {
   "cell_type": "markdown",
   "metadata": {},
   "source": [
    "## Ejercicio 2 \n",
    " Trabajando con datos de una lista. "
   ]
  },
  {
   "cell_type": "code",
   "execution_count": 1,
   "metadata": {},
   "outputs": [
    {
     "name": "stdout",
     "output_type": "stream",
     "text": [
      "Empezar con mayúscula por favor.\n",
      "Los datos son erroneos.\n",
      "Empezar con mayúscula por favor.\n"
     ]
    }
   ],
   "source": [
    "import os\n",
    "import time\n",
    "\n",
    "planets = [\"Mercurio\",\"Venus\",\"Tierra\",\"Marte\",\"Júpiter\",\"Saturno\",\"Urano\",\"Neptuno\"]\n",
    "\n",
    "\n",
    "while True:\n",
    "    try:\n",
    "        \n",
    "        usuario = input(\"Ingresa el planeta para saber la distancia al sol: \")\n",
    "        \n",
    "        if usuario.startswith(\"M\") or usuario.startswith(\"V\") or usuario.startswith(\"T\") or usuario.startswith(\"J\") or usuario.startswith(\"S\") or usuario.startswith(\"U\") or usuario.startswith(\"N\") :\n",
    "            ubicacion = planets.index(usuario)\n",
    "            os.system(\"cls\")\n",
    "            print(f\"\"\"los planetas más cercanos al sol son: {planets[0:ubicacion]} \n",
    "            y los más lejanos son: {planets[ubicacion +1:]}\"\"\")\n",
    "            break\n",
    "        else:\n",
    "            print(\"Empezar con mayúscula por favor.\")\n",
    "            \n",
    "    except:\n",
    "        print(\"Los datos son erroneos.\")\n",
    "\n",
    "        \n",
    "        \n",
    "\n"
   ]
  }
 ],
 "metadata": {
  "interpreter": {
   "hash": "3d56e7964d1c56a1bd85e53444517af8052847234026ce38ff852b1dd2ece98c"
  },
  "kernelspec": {
   "display_name": "Python 3.10.2 64-bit",
   "language": "python",
   "name": "python3"
  },
  "language_info": {
   "codemirror_mode": {
    "name": "ipython",
    "version": 3
   },
   "file_extension": ".py",
   "mimetype": "text/x-python",
   "name": "python",
   "nbconvert_exporter": "python",
   "pygments_lexer": "ipython3",
   "version": "3.10.2"
  },
  "orig_nbformat": 4
 },
 "nbformat": 4,
 "nbformat_minor": 2
}
