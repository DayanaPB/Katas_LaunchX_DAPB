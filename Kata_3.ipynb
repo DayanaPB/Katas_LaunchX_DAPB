{
 "cells": [
  {
   "cell_type": "markdown",
   "metadata": {},
   "source": [
    "# Lógica Booleana.\n",
    "# Ejercicio 1\n"
   ]
  },
  {
   "cell_type": "markdown",
   "metadata": {},
   "source": [
    "# Programa de advertencia\n",
    "Si un asteroide se acerca a la Tierra demasiado rápido.\n"
   ]
  },
  {
   "cell_type": "code",
   "execution_count": 15,
   "metadata": {},
   "outputs": [
    {
     "name": "stdout",
     "output_type": "stream",
     "text": [
      "!Advertencia¡: Se a excedido el limite de velocidad espacial autorizado.\n"
     ]
    }
   ],
   "source": [
    "Asteroide_x= 27\n",
    "\n",
    "if Asteroide_x  >= 25:\n",
    "    print (\"!Advertencia¡: Se a excedido el limite de velocidad espacial autorizado.\")\n",
    "else:\n",
    "    print (\"El limite detectado velocidad es pasable\")\n",
    "\n"
   ]
  },
  {
   "cell_type": "markdown",
   "metadata": {},
   "source": [
    "# Programa asteroide entra en la atmósfera de la Tierra \n",
    "# Ejercicio 2\n"
   ]
  },
  {
   "cell_type": "code",
   "execution_count": 17,
   "metadata": {},
   "outputs": [
    {
     "name": "stdout",
     "output_type": "stream",
     "text": [
      "Suerte para la proxima\n"
     ]
    }
   ],
   "source": [
    "Asteroide_z = 19\n",
    "if Asteroide_z > 20:\n",
    "    print (\"!Oh miren que es eso de alla!, ¡¿Sera un platillo volador?! ¡¡ES UNA LUZ!!\")\n",
    "elif Asteroide_z == 20:\n",
    "    print(\"¡OYE ABRE TUS OJOS MIRA HACIA ARRIBA! Disfruta la luz bella que tiene el cielo\")\n",
    "else:\n",
    "    print(\"Suerte para la proxima\")"
   ]
  },
  {
   "cell_type": "markdown",
   "metadata": {},
   "source": [
    "# Programa información correcta según la velocidad y el tamaño de un asteroide.\n",
    "# Ejercicio 3"
   ]
  },
  {
   "cell_type": "code",
   "execution_count": 20,
   "metadata": {},
   "outputs": [
    {
     "name": "stdout",
     "output_type": "stream",
     "text": [
      "Sigue participando ya no hay nada que ver :)\n"
     ]
    }
   ],
   "source": [
    "Velocidad = 25\n",
    "Tamano = 40\n",
    "if Velocidad >25 and Tamano > 25:\n",
    "    print(\"ADVERTENCIA:Un asteroide PELIGROSO se esta CERCA de la tierra\")\n",
    "    print(\"¡OYE ABRE TUS OJOS MIRA HACIA ARRIBA! Disfruta la luz bella que tiene el cielo\")\n",
    "elif Tamano < 25:\n",
    "    print(\"Suerte para la proxima :)\")\n",
    "else:\n",
    "    print(\"Sigue participando ya no hay nada que ver :)\")"
   ]
  }
 ],
 "metadata": {
  "interpreter": {
   "hash": "be51f2315204313240d150106198b8abe2ba4c8cd8b4a47b5280a8fa4c0b1954"
  },
  "kernelspec": {
   "display_name": "Python 3.10.2 64-bit",
   "language": "python",
   "name": "python3"
  },
  "language_info": {
   "codemirror_mode": {
    "name": "ipython",
    "version": 3
   },
   "file_extension": ".py",
   "mimetype": "text/x-python",
   "name": "python",
   "nbconvert_exporter": "python",
   "pygments_lexer": "ipython3",
   "version": "3.10.2"
  },
  "orig_nbformat": 4
 },
 "nbformat": 4,
 "nbformat_minor": 2
}
