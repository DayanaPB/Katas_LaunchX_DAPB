{
 "cells": [
  {
   "cell_type": "markdown",
   "metadata": {},
   "source": [
    "# Transformar Cadenas\n"
   ]
  },
  {
   "cell_type": "markdown",
   "metadata": {},
   "source": [
    "## Ejercicio 1"
   ]
  },
  {
   "cell_type": "code",
   "execution_count": 2,
   "metadata": {},
   "outputs": [
    {
     "name": "stdout",
     "output_type": "stream",
     "text": [
      " \n",
      "On average, the Moon moves 4cm away from the Earth every year\n",
      " The highest daylight temperature of the Moon is 127 C\n",
      "Interesting facts about the Moon. The Moon is Earth's only satellite. There are several interesting facts about the Moon and how it affects life here on Earth. \n",
      "On average, the Moon moves 4cm away from the Earth every year. This yearly drift is not significant enough to cause immediate effects on Earth. The highest daylight temperature of the Moon is 127 Celsius.\n"
     ]
    }
   ],
   "source": [
    "\n",
    "Text = \"\"\"Interesting facts about the Moon. The Moon is Earth's only satellite. There are several interesting facts about the Moon and how it affects life here on Earth. \n",
    "On average, the Moon moves 4cm away from the Earth every year. This yearly drift is not significant enough to cause immediate effects on Earth. The highest daylight temperature of the Moon is 127 C.\"\"\"\n",
    "\n",
    "separar = Text.split(\".\")\n",
    "separar\n",
    "Pistas = [\"average\",\"distance\",\"temperature\"]\n",
    "\n",
    "for i in separar:\n",
    "    for a in Pistas:\n",
    "        if a in i:\n",
    "            print(i)\n",
    "            break\n",
    "\n",
    "for letra in separar:\n",
    "    if letra in \"C\" :\n",
    "        print(Text.replace(\"C\",\"Celsius\"))"
   ]
  },
  {
   "cell_type": "markdown",
   "metadata": {},
   "source": [
    "## Ejercicio 2"
   ]
  },
  {
   "cell_type": "code",
   "execution_count": 6,
   "metadata": {},
   "outputs": [
    {
     "name": "stdout",
     "output_type": "stream",
     "text": [
      "La Tierra y la Luna.\n",
      "--------------------------------------------------------------------------------\n",
      "Planeta: Tierra\n",
      "Gravedad:Luna --> 1.6199999999999999 m/s\n",
      "\n",
      "\n"
     ]
    }
   ],
   "source": [
    "titulo = \"La Tierra y la Luna.\" \n",
    "Name = \"Luna\"\n",
    "gravedad =  0.00162\n",
    "planeta = \"Tierra\"\n",
    "\n",
    "Datos_completos = f\"\"\"{'-'*80}\n",
    "Planeta: {planeta}\n",
    "Gravedad:{Name} --> {gravedad*1000} m/s\n",
    "\"\"\"\n",
    "Plantilla_completa = f\"\"\"{titulo}\n",
    "{Datos_completos}\n",
    "\"\"\"\n",
    "\n",
    "print(Plantilla_completa)\n",
    "\n"
   ]
  }
 ],
 "metadata": {
  "interpreter": {
   "hash": "ab19a89ee72837df8e8a86ba7a25080d24ba56d474ac785c6e218fcb6464fa7e"
  },
  "kernelspec": {
   "display_name": "Python 3.9.2 64-bit",
   "language": "python",
   "name": "python3"
  },
  "language_info": {
   "codemirror_mode": {
    "name": "ipython",
    "version": 3
   },
   "file_extension": ".py",
   "mimetype": "text/x-python",
   "name": "python",
   "nbconvert_exporter": "python",
   "pygments_lexer": "ipython3",
   "version": "3.10.2"
  },
  "orig_nbformat": 4
 },
 "nbformat": 4,
 "nbformat_minor": 2
}
