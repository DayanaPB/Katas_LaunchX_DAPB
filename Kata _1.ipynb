{
 "cells": [
  {
   "cell_type": "markdown",
   "metadata": {},
   "source": [
    "# Primer programa\n",
    "# Ejercicio 1\n",
    "Programa de la fecha del dia de hoy."
   ]
  },
  {
   "cell_type": "code",
   "execution_count": 5,
   "metadata": {},
   "outputs": [
    {
     "name": "stdout",
     "output_type": "stream",
     "text": [
      "Today's date is: 2022-02-10\n"
     ]
    }
   ],
   "source": [
    "from datetime import date\n",
    "\n",
    "print(\"Today's date is: \" + str(date.today()))"
   ]
  },
  {
   "cell_type": "markdown",
   "metadata": {},
   "source": [
    "# Convertidor de unidades\n",
    "# Ejercicio 2\n",
    "Programa de conversión entre parsecs y años luz."
   ]
  },
  {
   "cell_type": "code",
   "execution_count": 7,
   "metadata": {},
   "outputs": [
    {
     "name": "stdout",
     "output_type": "stream",
     "text": [
      "11 parsec, is 35.877159999999996 lightyears\n"
     ]
    }
   ],
   "source": [
    "parsec = 11\n",
    "\n",
    "lightyears =  3.26156 * parsec\n",
    "\n",
    "print(str(parsec) + \" parsec, is \" + str(lightyears) + \" lightyears\")"
   ]
  }
 ],
 "metadata": {
  "interpreter": {
   "hash": "be51f2315204313240d150106198b8abe2ba4c8cd8b4a47b5280a8fa4c0b1954"
  },
  "kernelspec": {
   "display_name": "Python 3.10.2 64-bit",
   "language": "python",
   "name": "python3"
  },
  "language_info": {
   "codemirror_mode": {
    "name": "ipython",
    "version": 3
   },
   "file_extension": ".py",
   "mimetype": "text/x-python",
   "name": "python",
   "nbconvert_exporter": "python",
   "pygments_lexer": "ipython3",
   "version": "3.10.2"
  },
  "orig_nbformat": 4
 },
 "nbformat": 4,
 "nbformat_minor": 2
}
